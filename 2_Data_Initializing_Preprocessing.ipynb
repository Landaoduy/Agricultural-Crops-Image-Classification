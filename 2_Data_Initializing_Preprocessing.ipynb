{
 "cells": [
  {
   "cell_type": "code",
   "execution_count": 1,
   "id": "2d35aa04-cff6-4dec-8ea2-fd8a9f6f003d",
   "metadata": {},
   "outputs": [
    {
     "name": "stderr",
     "output_type": "stream",
     "text": [
      "2025-07-19 18:59:38.790460: I tensorflow/core/util/port.cc:153] oneDNN custom operations are on. You may see slightly different numerical results due to floating-point round-off errors from different computation orders. To turn them off, set the environment variable `TF_ENABLE_ONEDNN_OPTS=0`.\n",
      "2025-07-19 18:59:38.791284: I external/local_xla/xla/tsl/cuda/cudart_stub.cc:32] Could not find cuda drivers on your machine, GPU will not be used.\n",
      "2025-07-19 18:59:38.796764: I external/local_xla/xla/tsl/cuda/cudart_stub.cc:32] Could not find cuda drivers on your machine, GPU will not be used.\n",
      "2025-07-19 18:59:38.806648: E external/local_xla/xla/stream_executor/cuda/cuda_fft.cc:467] Unable to register cuFFT factory: Attempting to register factory for plugin cuFFT when one has already been registered\n",
      "WARNING: All log messages before absl::InitializeLog() is called are written to STDERR\n",
      "E0000 00:00:1752969578.820167    1009 cuda_dnn.cc:8579] Unable to register cuDNN factory: Attempting to register factory for plugin cuDNN when one has already been registered\n",
      "E0000 00:00:1752969578.824076    1009 cuda_blas.cc:1407] Unable to register cuBLAS factory: Attempting to register factory for plugin cuBLAS when one has already been registered\n",
      "W0000 00:00:1752969578.835799    1009 computation_placer.cc:177] computation placer already registered. Please check linkage and avoid linking the same target more than once.\n",
      "W0000 00:00:1752969578.835812    1009 computation_placer.cc:177] computation placer already registered. Please check linkage and avoid linking the same target more than once.\n",
      "W0000 00:00:1752969578.835813    1009 computation_placer.cc:177] computation placer already registered. Please check linkage and avoid linking the same target more than once.\n",
      "W0000 00:00:1752969578.835814    1009 computation_placer.cc:177] computation placer already registered. Please check linkage and avoid linking the same target more than once.\n",
      "2025-07-19 18:59:38.840423: I tensorflow/core/platform/cpu_feature_guard.cc:210] This TensorFlow binary is optimized to use available CPU instructions in performance-critical operations.\n",
      "To enable the following instructions: AVX2 AVX_VNNI FMA, in other operations, rebuild TensorFlow with the appropriate compiler flags.\n"
     ]
    }
   ],
   "source": [
    "import os\n",
    "import numpy as np\n",
    "import tensorflow as tf\n",
    "from tensorflow import keras"
   ]
  },
  {
   "cell_type": "code",
   "execution_count": 2,
   "id": "0386509d-e745-460c-85ab-63d75a470a12",
   "metadata": {},
   "outputs": [
    {
     "name": "stdout",
     "output_type": "stream",
     "text": [
      "Deleted 70 images.\n"
     ]
    }
   ],
   "source": [
    "num_skipped = 0\n",
    "max_images = 100\n",
    "data_dir = \"agri_crops/Agricultural-crops\"\n",
    "\n",
    "for folder_name in os.listdir(data_dir):\n",
    "    folder_path = os.path.join(data_dir, folder_name)\n",
    "\n",
    "    if not os.path.isdir(folder_path):\n",
    "        continue\n",
    "\n",
    "    for image_i, fname in enumerate(os.listdir(folder_path)):\n",
    "        fpath = os.path.join(folder_path, fname)\n",
    "\n",
    "        try:\n",
    "            with open(fpath, \"rb\") as fobj:\n",
    "                is_jfif = b\"JFIF\" in fobj.peek(10)\n",
    "        except Exception as e:\n",
    "            print(f\"Error reading {fpath}: {e}\")\n",
    "            is_jfif = False\n",
    "\n",
    "        if image_i >= max_images or not is_jfif:\n",
    "            num_skipped += 1\n",
    "            os.remove(fpath)\n",
    "\n",
    "print(f\"Deleted {num_skipped} images.\")"
   ]
  },
  {
   "cell_type": "code",
   "execution_count": 3,
   "id": "26f81303-f469-4529-946a-6985c31b46b4",
   "metadata": {},
   "outputs": [
    {
     "name": "stdout",
     "output_type": "stream",
     "text": [
      "Found 759 files belonging to 30 classes.\n",
      "Using 608 files for training.\n",
      "Found 759 files belonging to 30 classes.\n",
      "Using 151 files for validation.\n"
     ]
    },
    {
     "name": "stderr",
     "output_type": "stream",
     "text": [
      "2025-07-19 19:00:58.178251: E external/local_xla/xla/stream_executor/cuda/cuda_platform.cc:51] failed call to cuInit: INTERNAL: CUDA error: Failed call to cuInit: UNKNOWN ERROR (303)\n"
     ]
    }
   ],
   "source": [
    "# Create train_ds\n",
    "data_dir = 'agri_crops/Agricultural-crops'\n",
    "image_size = (224, 224)\n",
    "batch_size = 10\n",
    "\n",
    "train_ds = keras.utils.image_dataset_from_directory(\n",
    "    data_dir,\n",
    "    labels=\"inferred\",\n",
    "    label_mode=\"int\",\n",
    "    validation_split=0.2,\n",
    "    subset=\"training\",\n",
    "    shuffle=True,\n",
    "    color_mode=\"rgb\",\n",
    "    image_size=image_size,\n",
    "    batch_size=batch_size,\n",
    "    seed=42\n",
    ")\n",
    "\n",
    "#Create validation_ds\n",
    "validation_ds = keras.utils.image_dataset_from_directory(\n",
    "    data_dir,\n",
    "    labels=\"inferred\",\n",
    "    label_mode=\"int\",\n",
    "    validation_split=0.2,\n",
    "    subset=\"validation\",\n",
    "    shuffle=True,\n",
    "    color_mode=\"rgb\",\n",
    "    image_size=image_size,\n",
    "    batch_size=batch_size,\n",
    "    seed=42\n",
    ")"
   ]
  }
 ],
 "metadata": {
  "kernelspec": {
   "display_name": "Python (myenv)",
   "language": "python",
   "name": "myenv"
  },
  "language_info": {
   "codemirror_mode": {
    "name": "ipython",
    "version": 3
   },
   "file_extension": ".py",
   "mimetype": "text/x-python",
   "name": "python",
   "nbconvert_exporter": "python",
   "pygments_lexer": "ipython3",
   "version": "3.12.3"
  }
 },
 "nbformat": 4,
 "nbformat_minor": 5
}
