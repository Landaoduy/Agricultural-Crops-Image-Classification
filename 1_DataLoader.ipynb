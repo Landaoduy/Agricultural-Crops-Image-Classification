{
 "cells": [
  {
   "cell_type": "code",
   "execution_count": 2,
   "id": "b71c2970-63bf-4710-b4de-521997994ff8",
   "metadata": {},
   "outputs": [],
   "source": [
    "# Set up\n",
    "import os\n",
    "import zipfile\n",
    "import kaggle"
   ]
  },
  {
   "cell_type": "code",
   "execution_count": 3,
   "id": "914d763d-3d11-44f5-a91e-6067fc9259a6",
   "metadata": {},
   "outputs": [],
   "source": [
    "# Define paths\n",
    "kaggle_json_path = os.path.expanduser('~/.kaggle/kaggle.json')\n",
    "\n",
    "# Make sure the .kaggle directory and permissions are correct\n",
    "os.makedirs(os.path.expanduser(\"~/.kaggle\"), exist_ok=True)"
   ]
  },
  {
   "cell_type": "code",
   "execution_count": 4,
   "id": "5e9b687c-51a9-4ac1-8746-0c269bff2958",
   "metadata": {},
   "outputs": [
    {
     "name": "stdout",
     "output_type": "stream",
     "text": [
      "Dataset URL: https://www.kaggle.com/datasets/mdwaquarazam/agricultural-crops-image-classification\n",
      "License(s): CC0-1.0\n",
      "Downloading agricultural-crops-image-classification.zip to /home/landao/DATA_4380_Homework/computer_vision\n",
      "  0%|                                               | 0.00/79.0M [00:00<?, ?B/s]\n",
      "100%|██████████████████████████████████████| 79.0M/79.0M [00:00<00:00, 2.58GB/s]\n",
      "Dataset extracted to 'agri_crops'\n"
     ]
    }
   ],
   "source": [
    "# Set Kaggle environment variable\n",
    "os.environ['KAGGLE_CONFIG_DIR'] = os.path.expanduser(\"~/.kaggle\")\n",
    "\n",
    "# Download dataset (if not already downloaded)\n",
    "if not os.path.exists(\"agricultural-crops-image-classification.zip\"):\n",
    "    !kaggle datasets download -d mdwaquarazam/agricultural-crops-image-classification\n",
    "else:\n",
    "    print(\"Dataset already downloaded.\")\n",
    "\n",
    "# Unzip dataset if not already extracted\n",
    "if not os.path.exists(\"agri_crops\"):\n",
    "    with zipfile.ZipFile(\"agricultural-crops-image-classification.zip\", 'r') as zip_ref:\n",
    "        zip_ref.extractall(\"agri_crops\")\n",
    "    print(\"Dataset extracted to 'agri_crops'\")\n",
    "else:\n",
    "    print(\"Dataset already extracted.\")"
   ]
  },
  {
   "cell_type": "code",
   "execution_count": 5,
   "id": "d2c099a7-d14c-4aa8-9c1a-6681d0e25c1d",
   "metadata": {},
   "outputs": [
    {
     "name": "stdout",
     "output_type": "stream",
     "text": [
      "Crop Classes:\n",
      "- jute\n",
      "- pineapple\n",
      "- rice\n",
      "- sugarcane\n",
      "- chilli\n",
      "- soyabean\n",
      "- cardamom\n",
      "- Cucumber\n",
      "- Coffee-plant\n",
      "- papaya\n",
      "- Olive-tree\n",
      "- maize\n",
      "- Tobacco-plant\n",
      "- Fox_nut(Makhana)\n",
      "- Cherry\n",
      "- mustard-oil\n",
      "- jowar\n",
      "- vigna-radiati(Mung)\n",
      "- almond\n",
      "- wheat\n",
      "- Pearl_millet(bajra)\n",
      "- tomato\n",
      "- banana\n",
      "- gram\n",
      "- coconut\n",
      "- tea\n",
      "- cotton\n",
      "- clove\n",
      "- sunflower\n",
      "- Lemon\n"
     ]
    }
   ],
   "source": [
    "# Check folder structure\n",
    "data_dir = 'agri_crops/Agricultural-crops'\n",
    "\n",
    "if os.path.exists(data_dir):\n",
    "    class_folders = os.listdir(data_dir)\n",
    "    print(\"Crop Classes:\")\n",
    "    for folder in class_folders:\n",
    "        print(\"-\", folder)\n",
    "else:\n",
    "    print(f\"Directory not found: {data_dir}\")"
   ]
  }
 ],
 "metadata": {
  "kernelspec": {
   "display_name": "Python (myenv)",
   "language": "python",
   "name": "myenv"
  },
  "language_info": {
   "codemirror_mode": {
    "name": "ipython",
    "version": 3
   },
   "file_extension": ".py",
   "mimetype": "text/x-python",
   "name": "python",
   "nbconvert_exporter": "python",
   "pygments_lexer": "ipython3",
   "version": "3.12.3"
  }
 },
 "nbformat": 4,
 "nbformat_minor": 5
}
